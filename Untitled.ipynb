{
 "cells": [
  {
   "cell_type": "code",
   "execution_count": 1,
   "id": "5f3d0ad5",
   "metadata": {},
   "outputs": [
    {
     "name": "stdout",
     "output_type": "stream",
     "text": [
      "https://english.onlinekhabar.com/political\n",
      "https://english.onlinekhabar.com/economy\n",
      "https://english.onlinekhabar.com/lifestyle\n",
      "https://english.onlinekhabar.com/travel\n",
      "https://english.onlinekhabar.com/sports\n"
     ]
    },
    {
     "name": "stderr",
     "output_type": "stream",
     "text": [
      "C:\\ProgramData\\anaconda3\\lib\\site-packages\\bs4\\__init__.py:404: MarkupResemblesLocatorWarning: The input looks more like a URL than markup. You may want to use an HTTP client like requests to get the document behind the URL, and feed that document to Beautiful Soup.\n",
      "  warnings.warn(\n"
     ]
    }
   ],
   "source": [
    "from bs4 import BeautifulSoup\n",
    "import requests\n",
    "category=['political','economy','lifestyle','travel','sports']\n",
    "for cat in category:\n",
    "    url=BeautifulSoup(f\"https://english.onlinekhabar.com/{cat}\",\"html.parser\")\n",
    "    print(url)\n",
    "#soup=requests.get(url)\n",
    "#print(soup)\n",
    "#raw_code=BeautifulSoup(soup.text,\"lxml\")\n",
    "#print(raw_code)\n",
    "#urls=raw_code.find(\"div\", class_=\"ok-details-content-left\")\n",
    "#urls=raw_code.find_all(\"div\", attrs={\"class\":\"ok-details-content-left\"})\n",
    "#print(urls)\n"
   ]
  },
  {
   "cell_type": "code",
   "execution_count": 21,
   "id": "43c8e66e",
   "metadata": {},
   "outputs": [
    {
     "ename": "SyntaxError",
     "evalue": "incomplete input (1680556767.py, line 13)",
     "output_type": "error",
     "traceback": [
      "\u001b[1;36m  Cell \u001b[1;32mIn[21], line 13\u001b[1;36m\u001b[0m\n\u001b[1;33m    print(tag.get('href')\u001b[0m\n\u001b[1;37m                         ^\u001b[0m\n\u001b[1;31mSyntaxError\u001b[0m\u001b[1;31m:\u001b[0m incomplete input\n"
     ]
    }
   ],
   "source": [
    "from bs4 import BeautifulSoup\n",
    "import requests\n",
    "category=['nyregion','politics','health','science','business','arts','style']\n",
    "for cat in category:\n",
    "    url=BeautifulSoup(f\"https://www.nytimes.com/{cat}\",\"html.parser\")\n",
    "    #print(url)\n",
    "    soup=requests.get(url)\n",
    "    raw_code=BeautifulSoup(soup.text,\"lxml\")\n",
    "    #print(raw_code)\n",
    "    urls=raw_code.find('section',id='collection-science',class_='css-15h4p1b ewz6inz0')\n",
    "    #print(urls)\n",
    "    tag=urls.find_all('a')\n",
    "    print(tag.get('href')"
   ]
  },
  {
   "cell_type": "code",
   "execution_count": null,
   "id": "eda5f9ce",
   "metadata": {},
   "outputs": [],
   "source": []
  },
  {
   "cell_type": "code",
   "execution_count": null,
   "id": "772caf0e",
   "metadata": {},
   "outputs": [],
   "source": []
  }
 ],
 "metadata": {
  "kernelspec": {
   "display_name": "Python 3 (ipykernel)",
   "language": "python",
   "name": "python3"
  },
  "language_info": {
   "codemirror_mode": {
    "name": "ipython",
    "version": 3
   },
   "file_extension": ".py",
   "mimetype": "text/x-python",
   "name": "python",
   "nbconvert_exporter": "python",
   "pygments_lexer": "ipython3",
   "version": "3.10.9"
  }
 },
 "nbformat": 4,
 "nbformat_minor": 5
}
